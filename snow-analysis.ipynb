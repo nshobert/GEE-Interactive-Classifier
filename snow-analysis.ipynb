{
 "cells": [
  {
   "cell_type": "markdown",
   "metadata": {},
   "source": [
    "# This notebook provides an interactive analsyis to map snow frequency at a site\n",
    "26 April 2022  \n",
    "NSh  "
   ]
  },
  {
   "cell_type": "code",
   "execution_count": null,
   "metadata": {
    "vscode": {
     "languageId": "plaintext"
    }
   },
   "outputs": [],
   "source": [
    "# Import libraries and authenticate with Google Earth Engine.\n",
    "import os\n",
    "import ee\n",
    "import geemap"
   ]
  },
  {
   "cell_type": "markdown",
   "metadata": {},
   "source": [
    "May need to update the geemap package (only once. Then comment out this line.)"
   ]
  },
  {
   "cell_type": "code",
   "execution_count": null,
   "metadata": {
    "vscode": {
     "languageId": "plaintext"
    }
   },
   "outputs": [],
   "source": [
    "geemap.update_package()"
   ]
  },
  {
   "cell_type": "markdown",
   "metadata": {},
   "source": [
    "### Create an interactive map and define region of interest (roi)."
   ]
  },
  {
   "cell_type": "code",
   "execution_count": null,
   "metadata": {},
   "outputs": [],
   "source": [
    "# Define cloud mask function per Earth Engine Catalog.\n",
    "def mask_S2_clouds(image):\n",
    "    qa = image.select('QA60')\n",
    "    \n",
    "    # Bits 10 and 11 are clouds and cirrus, respectively.\n",
    "    cloud_bit_mask = 1<<10\n",
    "    cirrus_bit_mask = 1<<11\n",
    "    \n",
    "    # Both flags should be set to zero, indicating clear conditions.\n",
    "    mask = (qa.bitwiseAnd(cloud_bit_mask)\n",
    "            .eq(0)\n",
    "            .And(qa.bitwiseAnd(cirrus_bit_mask)\n",
    "            .eq(0)))\n",
    "    \n",
    "    return image.updateMask(mask).divide(10000)"
   ]
  },
  {
   "cell_type": "code",
   "execution_count": null,
   "metadata": {},
   "outputs": [],
   "source": [
    "# Import dataset and pre-filter to get less cloudy granules.\n",
    "dataset = (ee.ImageCollection('COPERNICUS/S2_SR')\n",
    "           .filterDate('2017-03-28', '2022-04-26')\n",
    "           .filter(ee.Filter.lt('CLOUDY_PIXEL_PERCENTAGE',60))\n",
    "           .map(mask_S2_clouds))"
   ]
  },
  {
   "cell_type": "code",
   "execution_count": null,
   "metadata": {},
   "outputs": [],
   "source": [
    "# Define visualization parameters for optical imagery\n",
    "vis_params = {\n",
    "    'min': 0,\n",
    "    'max': 0.3,\n",
    "    'bands': ['B4', 'B3', 'B2'],\n",
    "}"
   ]
  },
  {
   "cell_type": "code",
   "execution_count": null,
   "metadata": {
    "vscode": {
     "languageId": "plaintext"
    }
   },
   "outputs": [],
   "source": [
    "# Create interactive map centered at region of interest (roi)\n",
    "Map = geemap.Map()\n",
    "Map.addLayer(dataset.mean(), vis_params, 'RGB')\n",
    "roi = ee.Geometry.Point([7.277208, 61.965656]) #Ryggfonn\n",
    "Map.centerObject(roi, 10)\n",
    "Map"
   ]
  },
  {
   "cell_type": "code",
   "execution_count": null,
   "metadata": {},
   "outputs": [],
   "source": []
  }
 ],
 "metadata": {
  "kernelspec": {
   "display_name": "Python 3 (ipykernel)",
   "language": "python",
   "name": "python3"
  },
  "language_info": {
   "codemirror_mode": {
    "name": "ipython",
    "version": 3
   },
   "file_extension": ".py",
   "mimetype": "text/x-python",
   "name": "python",
   "nbconvert_exporter": "python",
   "pygments_lexer": "ipython3",
   "version": "3.9.7"
  }
 },
 "nbformat": 4,
 "nbformat_minor": 2
}
