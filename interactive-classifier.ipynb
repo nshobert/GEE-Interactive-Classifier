{
 "cells": [
  {
   "cell_type": "markdown",
   "metadata": {},
   "source": [
    "# Interactive Sentinel-2 scene classification\n"
   ]
  },
  {
   "cell_type": "markdown",
   "metadata": {},
   "source": [
    "### Initialize Google Earth Engine and geemap libraries"
   ]
  },
  {
   "cell_type": "code",
   "execution_count": 1,
   "metadata": {
    "vscode": {
     "languageId": "plaintext"
    }
   },
   "outputs": [],
   "source": [
    "# Import libraries and authenticate with Google Earth Engine (run every time you start the notebook.)\n",
    "import os\n",
    "import ee\n",
    "import geemap"
   ]
  },
  {
   "cell_type": "markdown",
   "metadata": {},
   "source": [
    "May need to update the geemap package (Uncomment and run only once. Then comment out this line before re-running.)"
   ]
  },
  {
   "cell_type": "code",
   "execution_count": null,
   "metadata": {
    "vscode": {
     "languageId": "plaintext"
    }
   },
   "outputs": [],
   "source": [
    "# geemap.update_package()"
   ]
  },
  {
   "cell_type": "code",
   "execution_count": 2,
   "metadata": {},
   "outputs": [],
   "source": [
    "# Initialize earth engine library (run every time you start the notebook.)\n",
    "ee.Initialize()"
   ]
  },
  {
   "cell_type": "markdown",
   "metadata": {},
   "source": [
    "The following may not be needed. An authentication call is built into geemap library, but if it does not work, run this cell."
   ]
  },
  {
   "cell_type": "code",
   "execution_count": null,
   "metadata": {},
   "outputs": [],
   "source": [
    "# Authenticate to Google Earth Engine Servers.\n",
    "ee.Authenticate()"
   ]
  },
  {
   "cell_type": "markdown",
   "metadata": {},
   "source": [
    "### Define study area and period"
   ]
  },
  {
   "cell_type": "markdown",
   "metadata": {},
   "source": [
    "Multiple options for defining a region of interest (roi) are shown below, including by latitude and longitude or by country boundary, or by a group of countries. Define only one roi by commenting out the rest."
   ]
  },
  {
   "cell_type": "code",
   "execution_count": 3,
   "metadata": {},
   "outputs": [],
   "source": [
    "# Define region of interest by a point (latitude and longitude) with a buffer.\n",
    "buffer = 5000     # enter a radius in meters\n",
    "lon = 7.273971    # e.g., Ryggfonn is at lon = 7.273971 and lat = 61.964367\n",
    "lat = 61.964367 \n",
    "roi = ee.Geometry.Point(lon, lat).buffer(buffer) "
   ]
  },
  {
   "cell_type": "code",
   "execution_count": null,
   "metadata": {},
   "outputs": [],
   "source": [
    "# Define region of interest by a country boundary.\n",
    "#roi = ee.FeatureCollection('USDOS/LSIB/2017').filter(ee.Filter.eq('COUNTRY_NA','Norway'))"
   ]
  },
  {
   "cell_type": "code",
   "execution_count": null,
   "metadata": {},
   "outputs": [],
   "source": [
    "# Define region of interest by a collection of countries. Note, this runs slowly. To run, uncomment all following lines.\n",
    "#countries = ee.FeatureCollection([\n",
    "#    ee.Feature(ee.FeatureCollection('USDOS/LSIB/2017').filter(ee.Filter.eq('COUNTRY_NA', 'Norway'))),\n",
    "#    ee.Feature(ee.FeatureCollection('USDOS/LSIB/2017').filter(ee.Filter.eq('COUNTRY_NA', 'Sweden'))),\n",
    "#    ee.Feature(ee.FeatureCollection('USDOS/LSIB/2017').filter(ee.Filter.eq('COUNTRY_NA', 'Finland')))\n",
    "#])\n",
    "#region = countries.flatten()                                                     \n",
    "#roi = region.geometry()"
   ]
  },
  {
   "cell_type": "markdown",
   "metadata": {},
   "source": [
    "When selecting the time period of interest, consider that a mosaic image will be created from all images collected during that time period. When a time period is long enough to include multiple images at a location at different times, the most recent image is used. There are methods to change this default but these are not implemented here. [More reading]( https://developers.google.com/earth-engine/guides/ic_composite_mosaic)"
   ]
  },
  {
   "cell_type": "code",
   "execution_count": 4,
   "metadata": {},
   "outputs": [],
   "source": [
    "# Define time period of study in the format of 'yyyy-mm-dd'\n",
    "start_date = '2022-03-23'\n",
    "end_date = '2022-04-23'"
   ]
  },
  {
   "cell_type": "markdown",
   "metadata": {},
   "source": [
    "### Import and filter dataset"
   ]
  },
  {
   "cell_type": "code",
   "execution_count": 5,
   "metadata": {},
   "outputs": [],
   "source": [
    "# Define cloud mask function per Earth Engine Catalog.\n",
    "def mask_S2_clouds(image):\n",
    "    qa = image.select('QA60')\n",
    "    \n",
    "    # Bits 10 and 11 are clouds and cirrus, respectively.\n",
    "    cloud_bit_mask = 1<<10\n",
    "    cirrus_bit_mask = 1<<11\n",
    "    \n",
    "    # Both flags should be set to zero, indicating clear conditions.\n",
    "    mask = (qa.bitwiseAnd(cloud_bit_mask)\n",
    "            .eq(0)\n",
    "            .And(qa.bitwiseAnd(cirrus_bit_mask)\n",
    "            .eq(0)))\n",
    "    \n",
    "    return image.updateMask(mask).divide(10000)"
   ]
  },
  {
   "cell_type": "markdown",
   "metadata": {},
   "source": [
    "Import the Sentinel-2 Surface Reflectance product. Filter it to our site and to get less cloudy tiles, and mask remaining cloudy pixels."
   ]
  },
  {
   "cell_type": "code",
   "execution_count": 6,
   "metadata": {},
   "outputs": [],
   "source": [
    "# Tiles with Cloudy_Pixel_Percentage greater than cloud_threshold will be excluded from filtered collection.\n",
    "cloud_threshold = 20 # Enter value in percent (0 to 100).\n",
    "\n",
    "# Import and filter image collection.\n",
    "dataset = (\n",
    "    ee.ImageCollection('COPERNICUS/S2_SR')\n",
    "    .filterDate(start_date, end_date) \n",
    "    .filter(ee.Filter.lt('CLOUDY_PIXEL_PERCENTAGE',cloud_threshold))\n",
    "    .map(mask_S2_clouds)\n",
    "    .filterBounds(roi)\n",
    ")"
   ]
  },
  {
   "cell_type": "code",
   "execution_count": 7,
   "metadata": {},
   "outputs": [
    {
     "data": {
      "text/plain": [
       "4"
      ]
     },
     "execution_count": 7,
     "metadata": {},
     "output_type": "execute_result"
    }
   ],
   "source": [
    "# Confirm the number of images in the filtered collection by printing the size of dataset.\n",
    "dataset.size().getInfo()"
   ]
  },
  {
   "cell_type": "markdown",
   "metadata": {},
   "source": [
    "### Create an image from filtered collection and visualize it on the map"
   ]
  },
  {
   "cell_type": "code",
   "execution_count": 8,
   "metadata": {},
   "outputs": [],
   "source": [
    "# Combine the images in the filtered collection into one image.\n",
    "test_img = dataset.mosaic().clip(roi)\n"
   ]
  },
  {
   "cell_type": "code",
   "execution_count": 9,
   "metadata": {},
   "outputs": [],
   "source": [
    "# Define visualization parameters for optical imagery.\n",
    "vis_params = {\n",
    "    'min': 0,\n",
    "    'max': 0.3,\n",
    "    'bands': ['B4', 'B3', 'B2'], # B4, B3, B2 are red, green, and blue bands for natural color images.\n",
    "}\n",
    "\n",
    "vis_params_snow = {\n",
    "    'min': 0,\n",
    "    'max': 0.3,\n",
    "    'bands': ['B2', 'B11', 'B12'], # B2, B11, and B12 bands are blue, SWIR1, and SWIR2 and differentiate snow from clouds.\n",
    "}"
   ]
  },
  {
   "cell_type": "code",
   "execution_count": 12,
   "metadata": {
    "vscode": {
     "languageId": "plaintext"
    }
   },
   "outputs": [
    {
     "data": {
      "application/vnd.jupyter.widget-view+json": {
       "model_id": "5bf47c7cf2e74ca7b6acf7de05f7ada1",
       "version_major": 2,
       "version_minor": 0
      },
      "text/plain": [
       "Map(center=[61.964372129441934, 7.273971302638792], controls=(WidgetControl(options=['position', 'transparent_…"
      ]
     },
     "metadata": {},
     "output_type": "display_data"
    }
   ],
   "source": [
    "# Create interactive map centered at region of interest (roi).\n",
    "zoom = 11 # integer represents zoom level. Lower value = zoom out, larger value = zoom in. Typical values 3 > zoom > 12.\n",
    "Map = geemap.Map()\n",
    "Map.addLayer(test_img, vis_params, 'RGB')\n",
    "Map.addLayer(test_img, vis_params_snow, 'False color to highlight snow, clouds, and terrain')\n",
    "Map.centerObject(roi, zoom)\n",
    "Map"
   ]
  },
  {
   "cell_type": "markdown",
   "metadata": {},
   "source": [
    "### Collect training data for landcover classification\n",
    "\n",
    "Create training data using interactive tool \"Collect Training Sample\" following the procedure shown [here](https://www.youtube.com/watch?v=VWh5PxXPZw0). Note in the video when the demonstrator clicks Apply. Mark enough points to define each class, which will depend on how many classes need to be defined, how unique they are from each other, and how accurate the classifier should be. Then run the following cell to collect the points into a feature collection. Scan through the output text to ensure that data points were collected for each class."
   ]
  },
  {
   "cell_type": "code",
   "execution_count": 13,
   "metadata": {},
   "outputs": [
    {
     "data": {
      "text/plain": [
       "{'type': 'FeatureCollection',\n",
       " 'columns': {'color': 'String',\n",
       "  'label': 'String',\n",
       "  'landcover': 'Integer',\n",
       "  'system:index': 'String'},\n",
       " 'features': [{'type': 'Feature',\n",
       "   'geometry': {'type': 'Point', 'coordinates': [7.237815, 61.9399]},\n",
       "   'id': '0',\n",
       "   'properties': {'color': '#3388ff', 'label': 'water', 'landcover': 0}},\n",
       "  {'type': 'Feature',\n",
       "   'geometry': {'type': 'Point', 'coordinates': [7.241549, 61.938608]},\n",
       "   'id': '1',\n",
       "   'properties': {'color': '#3388ff', 'label': 'water', 'landcover': 0}},\n",
       "  {'type': 'Feature',\n",
       "   'geometry': {'type': 'Point', 'coordinates': [7.240949, 61.943857]},\n",
       "   'id': '2',\n",
       "   'properties': {'color': '#3388ff', 'label': 'water', 'landcover': 0}},\n",
       "  {'type': 'Feature',\n",
       "   'geometry': {'type': 'Point', 'coordinates': [7.229955, 61.944159]},\n",
       "   'id': '3',\n",
       "   'properties': {'color': '#ff3333', 'label': 'soil', 'landcover': 1}},\n",
       "  {'type': 'Feature',\n",
       "   'geometry': {'type': 'Point', 'coordinates': [7.229204, 61.943291]},\n",
       "   'id': '4',\n",
       "   'properties': {'color': '#ff3333', 'label': 'soil', 'landcover': 1}},\n",
       "  {'type': 'Feature',\n",
       "   'geometry': {'type': 'Point', 'coordinates': [7.222315, 61.941202]},\n",
       "   'id': '5',\n",
       "   'properties': {'color': '#ff3333', 'label': 'soil', 'landcover': 1}},\n",
       "  {'type': 'Feature',\n",
       "   'geometry': {'type': 'Point', 'coordinates': [7.230299, 61.939062]},\n",
       "   'id': '6',\n",
       "   'properties': {'color': '#ff3333', 'label': 'soil', 'landcover': 1}},\n",
       "  {'type': 'Feature',\n",
       "   'geometry': {'type': 'Point', 'coordinates': [7.236351, 61.941232]},\n",
       "   'id': '7',\n",
       "   'properties': {'color': '#ff3333', 'label': 'soil', 'landcover': 1}},\n",
       "  {'type': 'Feature',\n",
       "   'geometry': {'type': 'Point', 'coordinates': [7.223217, 61.9443]},\n",
       "   'id': '8',\n",
       "   'properties': {'color': '#33bbff', 'label': 'snow', 'landcover': 2}},\n",
       "  {'type': 'Feature',\n",
       "   'geometry': {'type': 'Point', 'coordinates': [7.231393, 61.941616]},\n",
       "   'id': '9',\n",
       "   'properties': {'color': '#33bbff', 'label': 'snow', 'landcover': 2}},\n",
       "  {'type': 'Feature',\n",
       "   'geometry': {'type': 'Point', 'coordinates': [7.233818, 61.940818]},\n",
       "   'id': '10',\n",
       "   'properties': {'color': '#33bbff', 'label': 'snow', 'landcover': 2}},\n",
       "  {'type': 'Feature',\n",
       "   'geometry': {'type': 'Point', 'coordinates': [7.235793, 61.93883]},\n",
       "   'id': '11',\n",
       "   'properties': {'color': '#33bbff', 'label': 'snow', 'landcover': 2}},\n",
       "  {'type': 'Feature',\n",
       "   'geometry': {'type': 'Point', 'coordinates': [7.23105, 61.9399]},\n",
       "   'id': '12',\n",
       "   'properties': {'color': '#33bbff', 'label': 'snow', 'landcover': 2}}]}"
      ]
     },
     "execution_count": 13,
     "metadata": {},
     "output_type": "execute_result"
    }
   ],
   "source": [
    "# Create a variable to collect these geometries as feature collection.\n",
    "feature_collection = Map.user_rois.getInfo()\n",
    "feature_collection"
   ]
  },
  {
   "cell_type": "markdown",
   "metadata": {},
   "source": [
    "### Sample the imagery at the training points to create training dataset and train the classifier\n",
    "\n",
    "At each point on the map, a lot of information is available. Some information is more useful than others for separability of classes. For example, a cloud and  a patch snow look similar in the RGB image (booh white) but different in the false color image (snow is read and clouds are white). We want to train the classifier to using the data that will help it recognize our classes of interest. "
   ]
  },
  {
   "cell_type": "code",
   "execution_count": 14,
   "metadata": {},
   "outputs": [],
   "source": [
    "# Select the bands of interest for training.\n",
    "bands = ['B2', 'B11', 'B12'] # blue, SWIR1, and SWIR2 bands good for distinguishing between clouds and snow.\n",
    "\n",
    "# Sample the inmage to get a FeatureCollection of training data.\n",
    "training = (test_img.select(bands)\n",
    "            .sampleRegions(\n",
    "               **{\n",
    "                'collection': feature_collection,\n",
    "                'properties': ['landcover'],\n",
    "                'scale': 10}))"
   ]
  },
  {
   "cell_type": "markdown",
   "metadata": {},
   "source": [
    "Train the classifier. Here, we are using a Random Forest classifier, one of several machine learning algorithms available in GEE for supervised classification. [Read more here](https://developers.google.com/earth-engine/guides/classification)"
   ]
  },
  {
   "cell_type": "code",
   "execution_count": 15,
   "metadata": {},
   "outputs": [],
   "source": [
    "# Make a Random Forest classifier and train it. The user can change the number of trees used in the classifier if desired.\n",
    "num_trees = 100\n",
    "classifierRF = (ee.Classifier.smileRandomForest(num_trees)\n",
    "                .train(\n",
    "                    **{\n",
    "                    'features': training,\n",
    "                    'classProperty': 'landcover',\n",
    "                    'inputProperties': bands}))"
   ]
  },
  {
   "cell_type": "markdown",
   "metadata": {},
   "source": [
    "### Classify the image and view the results"
   ]
  },
  {
   "cell_type": "code",
   "execution_count": 16,
   "metadata": {},
   "outputs": [],
   "source": [
    "# Classify the image we created above.\n",
    "img_RF = test_img.select(bands).classify(classifierRF)"
   ]
  },
  {
   "cell_type": "code",
   "execution_count": 17,
   "metadata": {},
   "outputs": [
    {
     "data": {
      "application/vnd.jupyter.widget-view+json": {
       "model_id": "5bf47c7cf2e74ca7b6acf7de05f7ada1",
       "version_major": 2,
       "version_minor": 0
      },
      "text/plain": [
       "Map(bottom=4685872.0, center=[61.941493743397906, 7.228979289945926], controls=(WidgetControl(options=['positi…"
      ]
     },
     "metadata": {},
     "output_type": "display_data"
    }
   ],
   "source": [
    "# Define a palette to visualize the different landcover classes. There must be one color per class.\n",
    "palette = [\n",
    "  '334a8f', # water (0) // blue\n",
    "  '876e46', # soil (1)  // brown\n",
    "  'f7f8fa'  # snow (2)  // off white\n",
    "]\n",
    "\n",
    "# User must enter a value equal to the number of classes, less one. E.g., if there are three classes, then max = 2.\n",
    "max = 2 \n",
    "\n",
    "# Add the classified image to a new layer and show it on the map \n",
    "Map.addLayer(img_RF, {'min': 0, 'max': max , 'palette': palette}, 'Landcover')\n",
    "Map"
   ]
  },
  {
   "cell_type": "markdown",
   "metadata": {},
   "source": [
    "### Validate classifier\n",
    "\n",
    "Not implemented. Classifier should be 'ground truthed' prior to operational use. Accuracy assessment could follow these [guidelines.](https://developers.google.com/earth-engine/guides/classification#accuracy-assessment)"
   ]
  },
  {
   "cell_type": "code",
   "execution_count": null,
   "metadata": {},
   "outputs": [],
   "source": [
    "# Insert validation procedures."
   ]
  },
  {
   "cell_type": "markdown",
   "metadata": {},
   "source": [
    "### Use trained classifier to classify other imagery\n",
    "\n",
    "The following section defines a function to classify additional imagery at the same site from different time periods, using our trained and validated classifier. It adds each new classified image as a layer to the map."
   ]
  },
  {
   "cell_type": "code",
   "execution_count": 18,
   "metadata": {},
   "outputs": [],
   "source": [
    "# Define a function to create and classify new images of the study site.\n",
    "def classify_img(start, end):\n",
    "    collection = (\n",
    "    ee.ImageCollection('COPERNICUS/S2_SR')\n",
    "    .filterDate(start, end) \n",
    "    .filter(ee.Filter.lt('CLOUDY_PIXEL_PERCENTAGE',cloud_threshold))\n",
    "    .map(mask_S2_clouds)\n",
    "    .filterBounds(roi)\n",
    "    )\n",
    "    img_merged = collection.mosaic().clip(roi)\n",
    "    img_RF = img_merged.select(bands).classify(classifierRF)\n",
    "    return img_RF"
   ]
  },
  {
   "cell_type": "code",
   "execution_count": 20,
   "metadata": {},
   "outputs": [],
   "source": [
    "# Create new classified images with unique dates and names.\n",
    "start_1 = '2022-04-23'\n",
    "end_1 = '2022-05-23'\n",
    "img_1 = classify_img(start_1, end_1)\n",
    "\n",
    "start_2 = '2022-05-23'\n",
    "end_2 ='2022-06-23'\n",
    "img_2 = classify_img(start_2, end_2)"
   ]
  },
  {
   "cell_type": "code",
   "execution_count": 22,
   "metadata": {},
   "outputs": [
    {
     "data": {
      "application/vnd.jupyter.widget-view+json": {
       "model_id": "5bf47c7cf2e74ca7b6acf7de05f7ada1",
       "version_major": 2,
       "version_minor": 0
      },
      "text/plain": [
       "Map(bottom=293150.0, center=[61.964372129441934, 7.273971302638792], controls=(WidgetControl(options=['positio…"
      ]
     },
     "metadata": {},
     "output_type": "display_data"
    }
   ],
   "source": [
    "# Add the new images to the map.\n",
    "Map.addLayer(img_1, {'min': 0, 'max': max , 'palette': palette}, 'Image 1 landcover')\n",
    "Map.addLayer(img_2, {'min': 0, 'max': max , 'palette': palette}, 'Image 2 landcover')\n",
    "\n",
    "# Center map at roi and call the map to visualize.\n",
    "Map.centerObject(roi, zoom)\n",
    "Map"
   ]
  },
  {
   "cell_type": "code",
   "execution_count": null,
   "metadata": {},
   "outputs": [],
   "source": []
  }
 ],
 "metadata": {
  "kernelspec": {
   "display_name": "Python 3 (ipykernel)",
   "language": "python",
   "name": "python3"
  },
  "language_info": {
   "codemirror_mode": {
    "name": "ipython",
    "version": 3
   },
   "file_extension": ".py",
   "mimetype": "text/x-python",
   "name": "python",
   "nbconvert_exporter": "python",
   "pygments_lexer": "ipython3",
   "version": "3.9.7"
  }
 },
 "nbformat": 4,
 "nbformat_minor": 2
}
